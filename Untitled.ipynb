{
 "cells": [
  {
   "cell_type": "code",
   "execution_count": null,
   "id": "110e8a82-01cb-44e8-ace7-b600990a90cf",
   "metadata": {},
   "outputs": [],
   "source": []
  },
  {
   "cell_type": "code",
   "execution_count": 5,
   "id": "71de7278-2bc7-4da4-81d9-ad505a7a992f",
   "metadata": {},
   "outputs": [],
   "source": []
  },
  {
   "cell_type": "code",
   "execution_count": 6,
   "id": "24c5e89f-f955-4487-9c04-3a5a77106cfd",
   "metadata": {},
   "outputs": [
    {
     "name": "stdout",
     "output_type": "stream",
     "text": [
      "✅ Successfully loaded PropertyData.csv\n",
      "✅ Filtered out sold properties. 2200 properties remaining.\n",
      "\n",
      "🗓️ Calculating property status based on expiry date...\n",
      "Calculated_Status\n",
      "Expired    1465\n",
      "Active      735\n",
      "Name: count, dtype: int64\n",
      "✅ Found existing geocoding file at 'geo_mapping.json'. Loading...\n",
      "\n",
      "📍 Creating geographical clusters using K-Means...\n",
      "✅ Created 30 unique location clusters.\n",
      "\n",
      "⚙️ Starting data cleaning and outlier capping...\n",
      "✅ Price outliers have been capped.\n",
      "✅ Data cleaning and imputation complete.\n",
      "\n",
      "\n",
      "--- 🤖 Preparing data for the model ---\n",
      "✅ Preprocessing complete. Shape of model input data: (2200, 62)\n"
     ]
    },
    {
     "name": "stderr",
     "output_type": "stream",
     "text": [
      "C:\\Users\\Hp\\AppData\\Local\\Temp\\ipykernel_16732\\3324502240.py:136: FutureWarning: A value is trying to be set on a copy of a DataFrame or Series through chained assignment using an inplace method.\n",
      "The behavior will change in pandas 3.0. This inplace method will never work because the intermediate object on which we are setting values always behaves as a copy.\n",
      "\n",
      "For example, when doing 'df[col].method(value, inplace=True)', try using 'df.method({col: value}, inplace=True)' or df[col] = df[col].method(value) instead, to perform the operation inplace on the original object.\n",
      "\n",
      "\n",
      "  df[col].fillna(df[col].mode()[0], inplace=True)\n",
      "C:\\ProgramData\\anaconda3\\Lib\\site-packages\\sklearn\\utils\\_array_api.py:472: RuntimeWarning: All-NaN slice encountered\n",
      "  return xp.asarray(numpy.nanmin(X, axis=axis))\n",
      "C:\\ProgramData\\anaconda3\\Lib\\site-packages\\sklearn\\utils\\_array_api.py:489: RuntimeWarning: All-NaN slice encountered\n",
      "  return xp.asarray(numpy.nanmax(X, axis=axis))\n"
     ]
    },
    {
     "name": "stdout",
     "output_type": "stream",
     "text": [
      "\n",
      "✅ Tuned autoencoder model built.\n",
      "\n",
      "--- 🏋️‍♂️ Training the Autoencoder ---\n",
      "✅ Model training complete.\n",
      "\u001b[1m69/69\u001b[0m \u001b[32m━━━━━━━━━━━━━━━━━━━━\u001b[0m\u001b[37m\u001b[0m \u001b[1m0s\u001b[0m 2ms/step\n",
      "\n",
      "\n",
      "--- 🤝 Creating property matches ---\n"
     ]
    },
    {
     "ename": "IndexError",
     "evalue": "index 2204 is out of bounds for axis 0 with size 2200",
     "output_type": "error",
     "traceback": [
      "\u001b[1;31m---------------------------------------------------------------------------\u001b[0m",
      "\u001b[1;31mIndexError\u001b[0m                                Traceback (most recent call last)",
      "Cell \u001b[1;32mIn[6], line 9\u001b[0m\n\u001b[0;32m      6\u001b[0m all_embeddings \u001b[38;5;241m=\u001b[39m train_autoencoder(df_cleaned, preprocessor)\n\u001b[0;32m      8\u001b[0m \u001b[38;5;66;03m# Step 3: Create the master match file\u001b[39;00m\n\u001b[1;32m----> 9\u001b[0m create_all_matches(all_embeddings, df_cleaned)\n\u001b[0;32m     11\u001b[0m \u001b[38;5;66;03m# Step 4: Run the daily routing and generate the report\u001b[39;00m\n\u001b[0;32m     12\u001b[0m route_and_report(df_cleaned, all_embeddings)\n",
      "Cell \u001b[1;32mIn[5], line 190\u001b[0m, in \u001b[0;36mcreate_all_matches\u001b[1;34m(all_embeddings, df_cleaned)\u001b[0m\n\u001b[0;32m    188\u001b[0m active_indices \u001b[38;5;241m=\u001b[39m df_cleaned[active_mask]\u001b[38;5;241m.\u001b[39mindex\n\u001b[0;32m    189\u001b[0m query_indices \u001b[38;5;241m=\u001b[39m df_cleaned[query_mask]\u001b[38;5;241m.\u001b[39mindex\n\u001b[1;32m--> 190\u001b[0m active_embeddings \u001b[38;5;241m=\u001b[39m all_embeddings[active_indices]\n\u001b[0;32m    192\u001b[0m \u001b[38;5;28;01mif\u001b[39;00m \u001b[38;5;28mlen\u001b[39m(active_indices) \u001b[38;5;241m==\u001b[39m \u001b[38;5;241m0\u001b[39m \u001b[38;5;129;01mor\u001b[39;00m \u001b[38;5;28mlen\u001b[39m(query_indices) \u001b[38;5;241m==\u001b[39m \u001b[38;5;241m0\u001b[39m:\n\u001b[0;32m    193\u001b[0m     \u001b[38;5;28mprint\u001b[39m(\u001b[38;5;124m\"\u001b[39m\u001b[38;5;124m❌ Could not create matches.\u001b[39m\u001b[38;5;124m\"\u001b[39m); \u001b[38;5;28;01mreturn\u001b[39;00m\n",
      "\u001b[1;31mIndexError\u001b[0m: index 2204 is out of bounds for axis 0 with size 2200"
     ]
    }
   ],
   "source": []
  },
  {
   "cell_type": "code",
   "execution_count": null,
   "id": "a0a21f68-3584-41bb-b691-761718ec5124",
   "metadata": {},
   "outputs": [],
   "source": []
  }
 ],
 "metadata": {
  "kernelspec": {
   "display_name": "Python 3 (ipykernel)",
   "language": "python",
   "name": "python3"
  },
  "language_info": {
   "codemirror_mode": {
    "name": "ipython",
    "version": 3
   },
   "file_extension": ".py",
   "mimetype": "text/x-python",
   "name": "python",
   "nbconvert_exporter": "python",
   "pygments_lexer": "ipython3",
   "version": "3.12.4"
  }
 },
 "nbformat": 4,
 "nbformat_minor": 5
}
