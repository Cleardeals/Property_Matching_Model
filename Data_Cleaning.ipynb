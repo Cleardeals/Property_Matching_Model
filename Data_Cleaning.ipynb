{
 "cells": [
  {
   "cell_type": "code",
   "execution_count": 50,
   "id": "04f58aec-1d6f-422a-b74d-c708eda3769c",
   "metadata": {},
   "outputs": [],
   "source": [
    "import pandas as pd\n",
    "import numpy as np\n",
    "from sklearn.compose import ColumnTransformer\n",
    "from sklearn.preprocessing import MinMaxScaler, OneHotEncoder\n",
    "import re\n"
   ]
  },
  {
   "cell_type": "code",
   "execution_count": 13,
   "id": "d79f667d-7e33-4fbf-b096-883d4ea993ba",
   "metadata": {},
   "outputs": [
    {
     "name": "stdout",
     "output_type": "stream",
     "text": [
      "Successfully loaded PropertyData.csv\n"
     ]
    }
   ],
   "source": [
    "# --- 1. Load Data ---\n",
    "try:\n",
    "    # Load the dataset\n",
    "    property_df = pd.read_csv('PropertyData.csv', low_memory=False)\n",
    "    print(\"Successfully loaded PropertyData.csv\")\n",
    "except FileNotFoundError:\n",
    "    print(\"Error: 'PropertyData.csv' not found. Please ensure the file is in the correct directory.\")\n",
    "    # Exit if the file isn't found to prevent further errors\n",
    "    exit()"
   ]
  },
  {
   "cell_type": "code",
   "execution_count": 32,
   "id": "4f203f7b-0eaf-4bc8-a557-3fc547e11b3c",
   "metadata": {},
   "outputs": [
    {
     "data": {
      "text/plain": [
       "Index(['Contact', 'Type', 'Company', 'Assignee', 'Source', 'Phone', 'Email',\n",
       "       'Feedback', 'Date_of_Site_Visit', 'Time_of_Site_Visit', 'BHK',\n",
       "       'Price_Range_Lacs_Rs', 'Property_Type', 'Residential-Property',\n",
       "       'Commercial-Property-Type', 'Location', 'City1',\n",
       "       'Time-Duration-of-Purchase', 'Did-i-ask-for-sell-lead', 'Sell-Rent',\n",
       "       'FEST-Details', 'Welcome Call Date', 'Service_Expiry_Date',\n",
       "       'Payment-Package', 'Form-Number', 'Property-Price', 'Payment-Mode',\n",
       "       'Receipt-Number', 'Service-Validity', 'Sales-Executive',\n",
       "       'Package-Amount', 'Net-Amount', 'Due-Amount', 'Total-Package-Amount',\n",
       "       'No-of-Inventory', 'Sales-Executive-Revenue-Amount',\n",
       "       'Property-Register-Date', 'Relationship-Manager', 'JRM-Mobile-Number',\n",
       "       'GST', 'Property-Address', 'Current-Status', 'Property-On-Floor',\n",
       "       'Property-Facing', 'No-Of-Lift-Per-Block', 'Furniture-Details',\n",
       "       'Age-Of-Property', 'Parking-Details', 'Super-Built-up-Plot-Space',\n",
       "       'Super-Built-up-Construction-Area', 'Carpet-Construction-Area',\n",
       "       'Carpet-Plot-Area', 'Offer-Price', 'Bathroom', 'Property-Link',\n",
       "       '360DGT-Link', 'Property-Status', 'Property-Sold-Date',\n",
       "       'Reason-For-Unsold', 'Instagram-REEL', 'Youtube-Link', 'Location-Link',\n",
       "       '99acres-ID', 'Housing-ID', 'Magicbricks-ID', 'OLX-ID', 'Calendly-Link',\n",
       "       'Tag', 'City', 'State', 'Pincode', 'Country', 'Team', 'Title',\n",
       "       'Recent Note', 'Recent Note Time'],\n",
       "      dtype='object')"
      ]
     },
     "execution_count": 32,
     "metadata": {},
     "output_type": "execute_result"
    }
   ],
   "source": [
    "property_df.columns"
   ]
  },
  {
   "cell_type": "code",
   "execution_count": 47,
   "id": "b751e2fb-cba2-4499-bd22-e606e492cb61",
   "metadata": {},
   "outputs": [],
   "source": [
    "# Create a copy to work with, preserving the original dataframe\n",
    "df = property_df.copy()\n"
   ]
  },
  {
   "cell_type": "code",
   "execution_count": 55,
   "id": "bced701f-6b9c-4281-89bb-04f2ed3db6df",
   "metadata": {},
   "outputs": [
    {
     "data": {
      "text/plain": [
       "Property-Status\n",
       "Live-Property      2157\n",
       "Service-Expired     127\n",
       "Sold-CD             119\n",
       "-                    13\n",
       "Sold-Others           3\n",
       "Rented-CD             2\n",
       "Name: count, dtype: int64"
      ]
     },
     "execution_count": 55,
     "metadata": {},
     "output_type": "execute_result"
    }
   ],
   "source": [
    "property_df['Property-Status'].value_counts()"
   ]
  },
  {
   "cell_type": "code",
   "execution_count": 48,
   "id": "5aff3f13-be97-4705-b3c1-eef2d64535f6",
   "metadata": {},
   "outputs": [
    {
     "name": "stdout",
     "output_type": "stream",
     "text": [
      "Selected 15 features for modeling.\n"
     ]
    }
   ],
   "source": [
    "# --- 2. Feature Selection ---\n",
    "# Choose the columns most relevant for determining property similarity\n",
    "features_to_use = [\n",
    "    'BHK', 'Property-Price', 'Property_Type', 'City1', 'Property-On-Floor',\n",
    "    'Property-Facing', 'Age-Of-Property', 'Super-Built-up-Construction-Area',\n",
    "    'Carpet-Construction-Area', 'Bathroom', 'Furniture-Details', 'Current-Status', 'Location','No-Of-Lift-Per-Block',\n",
    "    'Parking-Details', 'Property-Status'\n",
    "]\n",
    "df = df[features_to_use]\n",
    "print(f\"Selected {len(features_to_use)} features for modeling.\")\n"
   ]
  },
  {
   "cell_type": "code",
   "execution_count": 51,
   "id": "720d2c04-b3c4-4c91-959b-708788e3da06",
   "metadata": {},
   "outputs": [
    {
     "name": "stdout",
     "output_type": "stream",
     "text": [
      "\n",
      "⚙️ Starting advanced data cleaning process...\n",
      "✅ Data cleaning and imputation complete.\n"
     ]
    },
    {
     "name": "stderr",
     "output_type": "stream",
     "text": [
      "C:\\Users\\Hp\\AppData\\Local\\Temp\\ipykernel_16892\\1966676225.py:94: FutureWarning: A value is trying to be set on a copy of a DataFrame or Series through chained assignment using an inplace method.\n",
      "The behavior will change in pandas 3.0. This inplace method will never work because the intermediate object on which we are setting values always behaves as a copy.\n",
      "\n",
      "For example, when doing 'df[col].method(value, inplace=True)', try using 'df.method({col: value}, inplace=True)' or df[col] = df[col].method(value) instead, to perform the operation inplace on the original object.\n",
      "\n",
      "\n",
      "  df[col].fillna(df[col].median(), inplace=True)\n",
      "C:\\Users\\Hp\\AppData\\Local\\Temp\\ipykernel_16892\\1966676225.py:98: FutureWarning: A value is trying to be set on a copy of a DataFrame or Series through chained assignment using an inplace method.\n",
      "The behavior will change in pandas 3.0. This inplace method will never work because the intermediate object on which we are setting values always behaves as a copy.\n",
      "\n",
      "For example, when doing 'df[col].method(value, inplace=True)', try using 'df.method({col: value}, inplace=True)' or df[col] = df[col].method(value) instead, to perform the operation inplace on the original object.\n",
      "\n",
      "\n",
      "  df[col].fillna(df[col].mode()[0], inplace=True)\n"
     ]
    }
   ],
   "source": [
    "# --- 3. Custom Cleaning Functions ---\n",
    "print(\"\\n⚙️ Starting advanced data cleaning process...\")\n",
    "\n",
    "def clean_price(price):\n",
    "    \"\"\"Normalizes price strings (e.g., '1.55 Cr.', '65.00 Lacs') to a single unit (Lakhs).\"\"\"\n",
    "    if not isinstance(price, str):\n",
    "        return np.nan\n",
    "    price_str = price.lower()\n",
    "    try:\n",
    "        # Find all numbers in the string\n",
    "        numbers = re.findall(r'[\\d\\.]+', price_str)\n",
    "        if not numbers:\n",
    "            return np.nan\n",
    "        value = float(numbers[0])\n",
    "        # Convert Crores to Lakhs\n",
    "        if 'cr' in price_str:\n",
    "            return value * 100\n",
    "        # Assume Lakhs if 'lac' or no unit is present\n",
    "        return value\n",
    "    except (ValueError, IndexError):\n",
    "        return np.nan\n",
    "\n",
    "def clean_area(area):\n",
    "    \"\"\"Normalizes area strings (e.g., '120 Sq.Yard', '634 Sq.Feet') to a single unit (Sq.Feet).\"\"\"\n",
    "    if not isinstance(area, str):\n",
    "        return np.nan\n",
    "    area_str = area.lower()\n",
    "    try:\n",
    "        numbers = re.findall(r'[\\d\\.]+', area_str)\n",
    "        if not numbers:\n",
    "            return np.nan\n",
    "        value = float(numbers[0])\n",
    "        # Convert Sq.Yards to Sq.Feet (1 Sq.Yard = 9 Sq.Feet)\n",
    "        if 'yard' in area_str:\n",
    "            return value * 9\n",
    "        # Assume Sq.Feet if 'feet' or no unit is present\n",
    "        return value\n",
    "    except (ValueError, IndexError):\n",
    "        return np.nan\n",
    "\n",
    "def clean_floor(floor):\n",
    "    \"\"\"Extracts the primary floor number from complex strings.\"\"\"\n",
    "    if not isinstance(floor, str):\n",
    "        return np.nan\n",
    "    floor_str = floor.lower().replace('g', '0') # Treat Ground floor as 0\n",
    "    try:\n",
    "        # Find the first number in the string\n",
    "        numbers = re.findall(r'\\d+', floor_str)\n",
    "        if numbers:\n",
    "            return int(numbers[0])\n",
    "        return np.nan\n",
    "    except (ValueError, IndexError):\n",
    "        return np.nan\n",
    "\n",
    "def clean_age(age):\n",
    "    \"\"\"Parses various age formats into an average age in years.\"\"\"\n",
    "    if not isinstance(age, str):\n",
    "        return np.nan\n",
    "    age_str = age.lower()\n",
    "    if 'new' in age_str or 'under' in age_str:\n",
    "        return 0\n",
    "    try:\n",
    "        # Find all numbers, average them if it's a range (e.g., '1-5')\n",
    "        numbers = [int(s) for s in re.findall(r'\\d+', age_str)]\n",
    "        if numbers:\n",
    "            return sum(numbers) / len(numbers)\n",
    "        return np.nan\n",
    "    except (ValueError, IndexError):\n",
    "        return np.nan\n",
    "\n",
    "# --- 4. Applying Cleaning and Imputation ---\n",
    "\n",
    "# Replace placeholder '-' with NaN for consistent handling\n",
    "df.replace('-', np.nan, inplace=True)\n",
    "\n",
    "# Apply cleaning functions to their respective columns\n",
    "df['Property-Price'] = df['Property-Price'].apply(clean_price)\n",
    "df['Super-Built-up-Construction-Area'] = df['Super-Built-up-Construction-Area'].apply(clean_area)\n",
    "df['Carpet-Construction-Area'] = df['Carpet-Construction-Area'].apply(clean_area)\n",
    "df['Property-On-Floor'] = df['Property-On-Floor'].apply(clean_floor)\n",
    "df['Age-Of-Property'] = df['Age-Of-Property'].apply(clean_age)\n",
    "\n",
    "# Clean simple numeric columns by extracting numbers\n",
    "df['BHK'] = pd.to_numeric(df['BHK'].astype(str).str.extract(r'(\\d+)', expand=False), errors='coerce')\n",
    "df['Bathroom'] = pd.to_numeric(df['Bathroom'], errors='coerce')\n",
    "df['No-Of-Lift-Per-Block'] = pd.to_numeric(df['No-Of-Lift-Per-Block'], errors='coerce')\n",
    "\n",
    "# Remove extreme outliers from 'Bathroom' (e.g., values > 20)\n",
    "df.loc[df['Bathroom'] > 20, 'Bathroom'] = np.nan\n",
    "\n",
    "# Impute (fill) missing numerical values with the median\n",
    "for col in ['Property-Price', 'Super-Built-up-Construction-Area', 'Carpet-Construction-Area',\n",
    "            'Property-On-Floor', 'Age-Of-Property', 'BHK', 'Bathroom', 'No-Of-Lift-Per-Block']:\n",
    "    df[col].fillna(df[col].median(), inplace=True)\n",
    "\n",
    "# Impute missing categorical values with the mode (most frequent value)\n",
    "for col in ['City1', 'Property-Facing', 'Furniture-Details', 'Current-Status', 'Location', 'Parking-Details']:\n",
    "    df[col].fillna(df[col].mode()[0], inplace=True)\n",
    "\n",
    "print(\"✅ Data cleaning and imputation complete.\")\n"
   ]
  },
  {
   "cell_type": "code",
   "execution_count": 52,
   "id": "7f196d0c-73e1-463d-8a12-0208db702ef6",
   "metadata": {},
   "outputs": [
    {
     "name": "stdout",
     "output_type": "stream",
     "text": [
      "\n",
      "⚙️ Applying preprocessing pipeline (scaling and encoding)...\n",
      "✅ Preprocessing complete. Shape of the final data: (2423, 208)\n",
      "\n",
      "💾 Cleaned dataframe saved to 'cleaned_property_data.csv'\n",
      "💾 Processed numpy array saved to 'processed_property_data.npy'\n",
      "\n",
      "🚀 Ready for the autoencoder model training step.\n"
     ]
    }
   ],
   "source": [
    "# --- 5. Preprocessing Pipeline ---\n",
    "print(\"\\n⚙️ Applying preprocessing pipeline (scaling and encoding)...\")\n",
    "\n",
    "numerical_features = [\n",
    "    'BHK', 'Property-Price', 'Property-On-Floor', 'Age-Of-Property',\n",
    "    'Super-Built-up-Construction-Area', 'Carpet-Construction-Area', 'Bathroom', 'No-Of-Lift-Per-Block'\n",
    "]\n",
    "categorical_features = [\n",
    "    'City1', 'Property-Facing', 'Furniture-Details', 'Current-Status', 'Location', 'Parking-Details'\n",
    "]\n",
    "\n",
    "# Create the preprocessor\n",
    "preprocessor = ColumnTransformer(\n",
    "    transformers=[\n",
    "        ('num', MinMaxScaler(), numerical_features),\n",
    "        ('cat', OneHotEncoder(handle_unknown='ignore', sparse_output=False), categorical_features)\n",
    "    ],\n",
    "    remainder='drop'\n",
    ")\n",
    "\n",
    "# Fit and transform the data\n",
    "X_processed = preprocessor.fit_transform(df)\n",
    "\n",
    "print(f\"✅ Preprocessing complete. Shape of the final data: {X_processed.shape}\")\n",
    "\n",
    "# --- 6. Save Outputs ---\n",
    "np.save('processed_property_data.npy', X_processed)\n",
    "df.to_csv('cleaned_property_data.csv', index=False)\n",
    "print(\"\\n💾 Cleaned dataframe saved to 'cleaned_property_data.csv'\")\n",
    "print(\"💾 Processed numpy array saved to 'processed_property_data.npy'\")\n",
    "print(\"\\n🚀 Ready for the autoencoder model training step.\")\n"
   ]
  },
  {
   "cell_type": "code",
   "execution_count": null,
   "id": "519c570c-18ba-4242-9756-e55c6f8212e7",
   "metadata": {},
   "outputs": [],
   "source": []
  }
 ],
 "metadata": {
  "kernelspec": {
   "display_name": "Python 3 (ipykernel)",
   "language": "python",
   "name": "python3"
  },
  "language_info": {
   "codemirror_mode": {
    "name": "ipython",
    "version": 3
   },
   "file_extension": ".py",
   "mimetype": "text/x-python",
   "name": "python",
   "nbconvert_exporter": "python",
   "pygments_lexer": "ipython3",
   "version": "3.12.4"
  }
 },
 "nbformat": 4,
 "nbformat_minor": 5
}
